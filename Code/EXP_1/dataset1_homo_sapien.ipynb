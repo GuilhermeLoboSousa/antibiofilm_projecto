{
 "cells": [
  {
   "attachments": {},
   "cell_type": "markdown",
   "metadata": {},
   "source": [
    "### Prepare the datasets from text files-cramp database"
   ]
  },
  {
   "cell_type": "code",
   "execution_count": null,
   "metadata": {},
   "outputs": [],
   "source": [
    "import pandas as pd\n"
   ]
  },
  {
   "attachments": {},
   "cell_type": "markdown",
   "metadata": {},
   "source": [
    "### only want the uniprot id and sequence "
   ]
  },
  {
   "cell_type": "code",
   "execution_count": null,
   "metadata": {},
   "outputs": [],
   "source": [
    "data = []  \n",
    "\n",
    "with open('AMP_EXP1.txt', 'r') as arquivo:\n",
    "    for linha in arquivo:\n",
    "        campos = linha.strip().split('\\t')\n",
    "\n",
    "        if len(campos) >= 8: \n",
    "            uniprot_id = campos[2]\n",
    "            sequence = campos[7]\n",
    "\n",
    "            data.append((uniprot_id, sequence))\n",
    "data"
   ]
  },
  {
   "cell_type": "code",
   "execution_count": null,
   "metadata": {},
   "outputs": [],
   "source": [
    "#to remove the first tupple - its not necessary\n",
    "data.pop(0)"
   ]
  },
  {
   "attachments": {},
   "cell_type": "markdown",
   "metadata": {},
   "source": [
    "### maintain the negative class because we only add new peptides relacionated with positiva class\n"
   ]
  },
  {
   "cell_type": "code",
   "execution_count": null,
   "metadata": {},
   "outputs": [],
   "source": [
    "df = pd.read_csv('peptides-all.csv',encoding=\"latin-1\")\n",
    "\n",
    "df = df[df['Type'] != 1]\n",
    "\n",
    "print(df)"
   ]
  },
  {
   "attachments": {},
   "cell_type": "markdown",
   "metadata": {},
   "source": [
    "## make the features based on the protein sequence of each peptide"
   ]
  },
  {
   "cell_type": "code",
   "execution_count": null,
   "metadata": {},
   "outputs": [],
   "source": [
    "from propy import PyPro\n",
    "from propy.GetProteinFromUniprot import GetProteinSequence\n",
    "from Bio.SeqUtils.ProtParam import ProteinAnalysis\n",
    "import urllib.error\n",
    "\n",
    "from urllib.parse import quote\n",
    "\n",
    "all_descriptors = []\n",
    "proximos=[]\n",
    "\n",
    "for tupple in data:\n",
    "    DesObject = PyPro.GetProDes(tupple[1])\n",
    "    \n",
    "    X = ProteinAnalysis(tupple[1])\n",
    "    descriptors = [\n",
    "        tupple[0],\n",
    "        1,\n",
    "        tupple[1],\n",
    "        X.length,\n",
    "        X.aromaticity(),\n",
    "        X.isoelectric_point(),\n",
    "        DesObject.GetAAComp(),\n",
    "        DesObject.GetDPComp(),\n",
    "        DesObject.GetCTD()\n",
    "        ]\n",
    "    try:\n",
    "        descriptors.insert(4, X.molecular_weight())\n",
    "        all_descriptors.append(descriptors)\n",
    "    except ValueError as e:\n",
    "        print(f\"Ignorando erro de valor para o cálculo de peso molecular da tupla {tupple}: {e}\")"
   ]
  },
  {
   "cell_type": "code",
   "execution_count": null,
   "metadata": {},
   "outputs": [],
   "source": [
    "len(all_descriptors)"
   ]
  },
  {
   "attachments": {},
   "cell_type": "markdown",
   "metadata": {},
   "source": [
    "### put the info in a list"
   ]
  },
  {
   "cell_type": "code",
   "execution_count": null,
   "metadata": {},
   "outputs": [],
   "source": [
    "def extract_values(data):\n",
    "    values = []\n",
    "    if isinstance(data, list):\n",
    "        for item in data:\n",
    "            values.extend(extract_values(item))\n",
    "    elif isinstance(data, dict):\n",
    "        for value in data.values():\n",
    "            values.extend(extract_values(value))\n",
    "    else:\n",
    "        values.append(data)\n",
    "    return values\n",
    "\n",
    "\n",
    "\n",
    "nova_data=[]\n",
    "for x in all_descriptors:\n",
    "\n",
    "    values = extract_values(x)\n",
    "    nova_data.append(values)\n",
    "    print(values)\n",
    "\n",
    "\n"
   ]
  },
  {
   "cell_type": "code",
   "execution_count": null,
   "metadata": {},
   "outputs": [],
   "source": [
    "#the ones that does not have id\n",
    "indices = [i for i, item in enumerate(nova_data) if item[0] == '']\n",
    "len(indices)\n",
    "\n"
   ]
  },
  {
   "attachments": {},
   "cell_type": "markdown",
   "metadata": {},
   "source": [
    "### Merge the dataset with negative part and positive part"
   ]
  },
  {
   "cell_type": "code",
   "execution_count": null,
   "metadata": {},
   "outputs": [],
   "source": [
    "siga=nova_data # for security"
   ]
  },
  {
   "cell_type": "code",
   "execution_count": null,
   "metadata": {},
   "outputs": [],
   "source": [
    "df2=pd.DataFrame(siga)\n",
    "df2.shape"
   ]
  },
  {
   "cell_type": "code",
   "execution_count": null,
   "metadata": {},
   "outputs": [],
   "source": [
    "df.shape"
   ]
  },
  {
   "cell_type": "code",
   "execution_count": null,
   "metadata": {},
   "outputs": [],
   "source": [
    "siga_columns = df.columns\n",
    "\n",
    "dfnovo = pd.DataFrame(siga, columns=siga_columns)\n",
    "\n",
    "df_concatenated = pd.concat([df, dfnovo], ignore_index=True)\n",
    "\n",
    "print(df_concatenated.tail(3))\n"
   ]
  },
  {
   "cell_type": "code",
   "execution_count": null,
   "metadata": {},
   "outputs": [],
   "source": [
    "# dataset done for the first approach\n",
    "df_concatenated.to_csv('meus_peptides.csv', index=False)\n"
   ]
  }
 ],
 "metadata": {
  "kernelspec": {
   "display_name": "base",
   "language": "python",
   "name": "python3"
  },
  "language_info": {
   "codemirror_mode": {
    "name": "ipython",
    "version": 3
   },
   "file_extension": ".py",
   "mimetype": "text/x-python",
   "name": "python",
   "nbconvert_exporter": "python",
   "pygments_lexer": "ipython3",
   "version": "3.9.12"
  },
  "orig_nbformat": 4
 },
 "nbformat": 4,
 "nbformat_minor": 2
}
